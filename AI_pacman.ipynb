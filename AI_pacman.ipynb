{
  "nbformat": 4,
  "nbformat_minor": 0,
  "metadata": {
    "colab": {
      "provenance": []
    },
    "kernelspec": {
      "name": "python3",
      "display_name": "Python 3"
    },
    "language_info": {
      "name": "python"
    }
  },
  "cells": [
    {
      "cell_type": "code",
      "execution_count": null,
      "metadata": {
        "id": "cOWhlhlm1Olo"
      },
      "outputs": [],
      "source": [
        "\n",
        "\n",
        "!wget https://raw.githubusercontent.com/Shiftscorp29/AI-pacman/main/shiftscorp_pac_man.py\n",
        "!pip install gymnasium\n",
        "!pip install \"gymnasium[atari, accept-rom-license]\"\n",
        "!pip install ale-py\n",
        "!apt-get install -y swig\n",
        "\n",
        "\n",
        "!python shiftscorp's_pac_man.py\n"
      ]
    }
  ]
}
